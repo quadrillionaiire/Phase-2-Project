{
 "cells": [
  {
   "cell_type": "markdown",
   "metadata": {},
   "source": [
    "# Machine Learning Extension\n",
    "\n",
    "We will use regression and classification models to further analyze the movie data and how different features can be used to predict the total gross revenue of a movie."
   ]
  },
  {
   "cell_type": "markdown",
   "metadata": {},
   "source": [
    "## Data Prep"
   ]
  },
  {
   "cell_type": "code",
   "execution_count": 91,
   "metadata": {},
   "outputs": [],
   "source": [
    "import pandas as pd\n",
    "\n",
    "from sklearn.linear_model import LinearRegression\n",
    "from sklearn.model_selection import train_test_split, KFold, StratifiedKFold, cross_val_score, GridSearchCV\n",
    "from sklearn.preprocessing import StandardScaler, MinMaxScaler, LabelEncoder\n",
    "from sklearn.metrics import classification_report, confusion_matrix, accuracy_score, f1_score, explained_variance_score\n",
    "\n",
    "# Suite of Machine Learning Algorithms\n",
    "from sklearn.neighbors import KNeighborsClassifier\n",
    "from sklearn.svm import SVC, SVR\n",
    "from sklearn.tree import DecisionTreeClassifier, DecisionTreeRegressor\n",
    "from sklearn.naive_bayes import GaussianNB\n",
    "from sklearn.linear_model import LinearRegression, LogisticRegression, Ridge\n",
    "\n",
    "from sklearn.ensemble import RandomForestClassifier, AdaBoostClassifier\n",
    "from xgboost import XGBClassifier\n",
    "\n",
    "# Setup to Ignore Version Errors and Deprecations\n",
    "import warnings\n",
    "warnings.filterwarnings(\"ignore\")"
   ]
  },
  {
   "cell_type": "code",
   "execution_count": 92,
   "metadata": {},
   "outputs": [
    {
     "data": {
      "text/html": [
       "<div>\n",
       "<style scoped>\n",
       "    .dataframe tbody tr th:only-of-type {\n",
       "        vertical-align: middle;\n",
       "    }\n",
       "\n",
       "    .dataframe tbody tr th {\n",
       "        vertical-align: top;\n",
       "    }\n",
       "\n",
       "    .dataframe thead th {\n",
       "        text-align: right;\n",
       "    }\n",
       "</style>\n",
       "<table border=\"1\" class=\"dataframe\">\n",
       "  <thead>\n",
       "    <tr style=\"text-align: right;\">\n",
       "      <th></th>\n",
       "      <th>movie_id</th>\n",
       "      <th>primary_title</th>\n",
       "      <th>genres</th>\n",
       "      <th>individual_genre</th>\n",
       "      <th>runtime_minutes</th>\n",
       "      <th>title</th>\n",
       "      <th>studio</th>\n",
       "      <th>domestic_gross</th>\n",
       "      <th>foreign_gross</th>\n",
       "      <th>year</th>\n",
       "      <th>averagerating</th>\n",
       "      <th>numvotes</th>\n",
       "      <th>director_id</th>\n",
       "      <th>director_name</th>\n",
       "      <th>total_gross</th>\n",
       "    </tr>\n",
       "  </thead>\n",
       "  <tbody>\n",
       "    <tr>\n",
       "      <th>0</th>\n",
       "      <td>tt0315642</td>\n",
       "      <td>Wazir</td>\n",
       "      <td>Action,Crime,Drama</td>\n",
       "      <td>Action</td>\n",
       "      <td>103.0</td>\n",
       "      <td>Wazir</td>\n",
       "      <td>Relbig.</td>\n",
       "      <td>1100000.0</td>\n",
       "      <td>0.0</td>\n",
       "      <td>2016</td>\n",
       "      <td>7.1</td>\n",
       "      <td>15378</td>\n",
       "      <td>nm2349060</td>\n",
       "      <td>Bejoy Nambiar</td>\n",
       "      <td>1100000.0</td>\n",
       "    </tr>\n",
       "    <tr>\n",
       "      <th>1</th>\n",
       "      <td>tt0315642</td>\n",
       "      <td>Wazir</td>\n",
       "      <td>Action,Crime,Drama</td>\n",
       "      <td>Crime</td>\n",
       "      <td>103.0</td>\n",
       "      <td>Wazir</td>\n",
       "      <td>Relbig.</td>\n",
       "      <td>1100000.0</td>\n",
       "      <td>0.0</td>\n",
       "      <td>2016</td>\n",
       "      <td>7.1</td>\n",
       "      <td>15378</td>\n",
       "      <td>nm2349060</td>\n",
       "      <td>Bejoy Nambiar</td>\n",
       "      <td>1100000.0</td>\n",
       "    </tr>\n",
       "    <tr>\n",
       "      <th>2</th>\n",
       "      <td>tt0315642</td>\n",
       "      <td>Wazir</td>\n",
       "      <td>Action,Crime,Drama</td>\n",
       "      <td>Drama</td>\n",
       "      <td>103.0</td>\n",
       "      <td>Wazir</td>\n",
       "      <td>Relbig.</td>\n",
       "      <td>1100000.0</td>\n",
       "      <td>0.0</td>\n",
       "      <td>2016</td>\n",
       "      <td>7.1</td>\n",
       "      <td>15378</td>\n",
       "      <td>nm2349060</td>\n",
       "      <td>Bejoy Nambiar</td>\n",
       "      <td>1100000.0</td>\n",
       "    </tr>\n",
       "    <tr>\n",
       "      <th>3</th>\n",
       "      <td>tt0337692</td>\n",
       "      <td>On the Road</td>\n",
       "      <td>Adventure,Drama,Romance</td>\n",
       "      <td>Adventure</td>\n",
       "      <td>124.0</td>\n",
       "      <td>On the Road</td>\n",
       "      <td>IFC</td>\n",
       "      <td>744000.0</td>\n",
       "      <td>8000000.0</td>\n",
       "      <td>2012</td>\n",
       "      <td>6.1</td>\n",
       "      <td>37886</td>\n",
       "      <td>nm0758574</td>\n",
       "      <td>Walter Salles</td>\n",
       "      <td>8744000.0</td>\n",
       "    </tr>\n",
       "    <tr>\n",
       "      <th>4</th>\n",
       "      <td>tt0337692</td>\n",
       "      <td>On the Road</td>\n",
       "      <td>Adventure,Drama,Romance</td>\n",
       "      <td>Drama</td>\n",
       "      <td>124.0</td>\n",
       "      <td>On the Road</td>\n",
       "      <td>IFC</td>\n",
       "      <td>744000.0</td>\n",
       "      <td>8000000.0</td>\n",
       "      <td>2012</td>\n",
       "      <td>6.1</td>\n",
       "      <td>37886</td>\n",
       "      <td>nm0758574</td>\n",
       "      <td>Walter Salles</td>\n",
       "      <td>8744000.0</td>\n",
       "    </tr>\n",
       "  </tbody>\n",
       "</table>\n",
       "</div>"
      ],
      "text/plain": [
       "    movie_id primary_title                   genres individual_genre  \\\n",
       "0  tt0315642         Wazir       Action,Crime,Drama           Action   \n",
       "1  tt0315642         Wazir       Action,Crime,Drama            Crime   \n",
       "2  tt0315642         Wazir       Action,Crime,Drama            Drama   \n",
       "3  tt0337692   On the Road  Adventure,Drama,Romance        Adventure   \n",
       "4  tt0337692   On the Road  Adventure,Drama,Romance            Drama   \n",
       "\n",
       "   runtime_minutes        title   studio  domestic_gross  foreign_gross  year  \\\n",
       "0            103.0        Wazir  Relbig.       1100000.0            0.0  2016   \n",
       "1            103.0        Wazir  Relbig.       1100000.0            0.0  2016   \n",
       "2            103.0        Wazir  Relbig.       1100000.0            0.0  2016   \n",
       "3            124.0  On the Road      IFC        744000.0      8000000.0  2012   \n",
       "4            124.0  On the Road      IFC        744000.0      8000000.0  2012   \n",
       "\n",
       "   averagerating  numvotes director_id  director_name  total_gross  \n",
       "0            7.1     15378   nm2349060  Bejoy Nambiar    1100000.0  \n",
       "1            7.1     15378   nm2349060  Bejoy Nambiar    1100000.0  \n",
       "2            7.1     15378   nm2349060  Bejoy Nambiar    1100000.0  \n",
       "3            6.1     37886   nm0758574  Walter Salles    8744000.0  \n",
       "4            6.1     37886   nm0758574  Walter Salles    8744000.0  "
      ]
     },
     "execution_count": 92,
     "metadata": {},
     "output_type": "execute_result"
    }
   ],
   "source": [
    "# loading the data\n",
    "merged_data = pd.read_csv(\"../data/merged_data.csv\")\n",
    "merged_data.head()"
   ]
  },
  {
   "cell_type": "markdown",
   "metadata": {},
   "source": [
    "### Data Cleaning & Feature Engineering"
   ]
  },
  {
   "cell_type": "code",
   "execution_count": 93,
   "metadata": {},
   "outputs": [
    {
     "data": {
      "text/html": [
       "<div>\n",
       "<style scoped>\n",
       "    .dataframe tbody tr th:only-of-type {\n",
       "        vertical-align: middle;\n",
       "    }\n",
       "\n",
       "    .dataframe tbody tr th {\n",
       "        vertical-align: top;\n",
       "    }\n",
       "\n",
       "    .dataframe thead th {\n",
       "        text-align: right;\n",
       "    }\n",
       "</style>\n",
       "<table border=\"1\" class=\"dataframe\">\n",
       "  <thead>\n",
       "    <tr style=\"text-align: right;\">\n",
       "      <th></th>\n",
       "      <th>individual_genre</th>\n",
       "      <th>runtime_minutes</th>\n",
       "      <th>studio</th>\n",
       "      <th>year</th>\n",
       "      <th>averagerating</th>\n",
       "      <th>director_id</th>\n",
       "      <th>total_gross</th>\n",
       "    </tr>\n",
       "  </thead>\n",
       "  <tbody>\n",
       "    <tr>\n",
       "      <th>0</th>\n",
       "      <td>Action</td>\n",
       "      <td>103.0</td>\n",
       "      <td>Relbig.</td>\n",
       "      <td>2016</td>\n",
       "      <td>7.1</td>\n",
       "      <td>nm2349060</td>\n",
       "      <td>1100000.0</td>\n",
       "    </tr>\n",
       "    <tr>\n",
       "      <th>1</th>\n",
       "      <td>Crime</td>\n",
       "      <td>103.0</td>\n",
       "      <td>Relbig.</td>\n",
       "      <td>2016</td>\n",
       "      <td>7.1</td>\n",
       "      <td>nm2349060</td>\n",
       "      <td>1100000.0</td>\n",
       "    </tr>\n",
       "    <tr>\n",
       "      <th>2</th>\n",
       "      <td>Drama</td>\n",
       "      <td>103.0</td>\n",
       "      <td>Relbig.</td>\n",
       "      <td>2016</td>\n",
       "      <td>7.1</td>\n",
       "      <td>nm2349060</td>\n",
       "      <td>1100000.0</td>\n",
       "    </tr>\n",
       "    <tr>\n",
       "      <th>3</th>\n",
       "      <td>Adventure</td>\n",
       "      <td>124.0</td>\n",
       "      <td>IFC</td>\n",
       "      <td>2012</td>\n",
       "      <td>6.1</td>\n",
       "      <td>nm0758574</td>\n",
       "      <td>8744000.0</td>\n",
       "    </tr>\n",
       "    <tr>\n",
       "      <th>4</th>\n",
       "      <td>Drama</td>\n",
       "      <td>124.0</td>\n",
       "      <td>IFC</td>\n",
       "      <td>2012</td>\n",
       "      <td>6.1</td>\n",
       "      <td>nm0758574</td>\n",
       "      <td>8744000.0</td>\n",
       "    </tr>\n",
       "  </tbody>\n",
       "</table>\n",
       "</div>"
      ],
      "text/plain": [
       "  individual_genre  runtime_minutes   studio  year  averagerating director_id  \\\n",
       "0           Action            103.0  Relbig.  2016            7.1   nm2349060   \n",
       "1            Crime            103.0  Relbig.  2016            7.1   nm2349060   \n",
       "2            Drama            103.0  Relbig.  2016            7.1   nm2349060   \n",
       "3        Adventure            124.0      IFC  2012            6.1   nm0758574   \n",
       "4            Drama            124.0      IFC  2012            6.1   nm0758574   \n",
       "\n",
       "   total_gross  \n",
       "0    1100000.0  \n",
       "1    1100000.0  \n",
       "2    1100000.0  \n",
       "3    8744000.0  \n",
       "4    8744000.0  "
      ]
     },
     "execution_count": 93,
     "metadata": {},
     "output_type": "execute_result"
    }
   ],
   "source": [
    "# get the features that we want to analyze in the models\n",
    "model_data = merged_data[[\"individual_genre\", \"runtime_minutes\", \"studio\", \"year\", \"averagerating\", \"director_id\", \"total_gross\"]]\n",
    "\n",
    "model_data.head()"
   ]
  },
  {
   "cell_type": "code",
   "execution_count": 94,
   "metadata": {},
   "outputs": [
    {
     "data": {
      "text/plain": [
       "individual_genre     0\n",
       "runtime_minutes     87\n",
       "studio               0\n",
       "year                 0\n",
       "averagerating        0\n",
       "director_id          0\n",
       "total_gross          0\n",
       "dtype: int64"
      ]
     },
     "execution_count": 94,
     "metadata": {},
     "output_type": "execute_result"
    }
   ],
   "source": [
    "# check for null values\n",
    "model_data.isna().sum()"
   ]
  },
  {
   "cell_type": "code",
   "execution_count": 95,
   "metadata": {},
   "outputs": [],
   "source": [
    "# drop null values of runtime_minutes\n",
    "model_data = model_data.dropna(subset=[\"runtime_minutes\"])"
   ]
  },
  {
   "cell_type": "markdown",
   "metadata": {},
   "source": [
    "# Machine Learning"
   ]
  },
  {
   "cell_type": "markdown",
   "metadata": {},
   "source": [
    "### Helper Functions"
   ]
  },
  {
   "cell_type": "code",
   "execution_count": 96,
   "metadata": {},
   "outputs": [],
   "source": [
    "# reset scores for model performance tests for different X_train variations\n",
    "def reset_model_scores(models):\n",
    "  for name in models:\n",
    "    models[name][\"All_Scores\"] = list()\n",
    "    models[name][\"Top_Score\"] = float()\n",
    "    models[name][\"Mean_Score\"] = float()\n",
    "    models[name][\"Std_Score\"] = float()\n",
    "\n",
    "  return models"
   ]
  },
  {
   "cell_type": "code",
   "execution_count": 97,
   "metadata": {},
   "outputs": [],
   "source": [
    "# helper function to test multiple model performances using cross_val_score\n",
    "def test_models_performance(models, x_train, y_train, isRegressor, num_folds = 10):\n",
    "\n",
    "  # reset the performance scores first using function above\n",
    "  reset_model_scores(models)\n",
    "\n",
    "  # set scoring type based on model type\n",
    "  scoring = \"neg_mean_squared_error\" if isRegressor else \"accuracy\"\n",
    "\n",
    "  # get the performance scores for each model and add them to the\n",
    "  # corresponding result list\n",
    "  for name in models:\n",
    "\n",
    "    folds = KFold(n_splits=num_folds) if isRegressor else StratifiedKFold(n_splits=num_folds)\n",
    "\n",
    "    results = cross_val_score(estimator=models[name][\"Estimator\"],\n",
    "                              X=x_train,\n",
    "                              y=y_train,\n",
    "                              cv=folds,\n",
    "                              scoring=scoring)\n",
    "    models[name][\"Top_Score\"] = results.max()\n",
    "    models[name][\"Mean_Score\"] = results.mean()\n",
    "    models[name][\"Std_Score\"] = results.std()\n",
    "\n",
    "    for result in results:\n",
    "      models[name][\"All_Scores\"].append(result)\n",
    "\n",
    "  # print the results\n",
    "  for name in models:\n",
    "    print(\"\\n[MODEL TYPE: {}]\\n\".format(name))\n",
    "    print(\">>>> Top Performance: \\t\\t{:.4f}\".format(models[name][\"Top_Score\"]))\n",
    "    print(\">>>> Average Performance: \\t{:.4f}\".format(models[name][\"Mean_Score\"]))\n",
    "    print(\">>>> Spread of Performance: \\t{:.4f}\".format(models[name][\"Std_Score\"]))"
   ]
  },
  {
   "cell_type": "code",
   "execution_count": 98,
   "metadata": {},
   "outputs": [],
   "source": [
    "# printing accuracy scores\n",
    "def print_accuracy(y_test, y_pred, isRegressor):\n",
    "\n",
    "  if isRegressor:\n",
    "    accuracy = 100 * explained_variance_score(y_test, y_pred)\n",
    "  else:\n",
    "    accuracy = 100 * accuracy_score(y_true=y_test,\n",
    "                                y_pred=y_pred)\n",
    "\n",
    "  print(\"> ACCURACY: \\t{:.2f}%\".format(accuracy))"
   ]
  },
  {
   "cell_type": "code",
   "execution_count": 99,
   "metadata": {},
   "outputs": [],
   "source": [
    "# helper function to fit and predict a model\n",
    "# prints the accuracy and returns the predicted y values\n",
    "def fit_predict(model, X_train, y_train, X_test, y_test, isRegressor):\n",
    "    model.fit(X_train, y_train)\n",
    "    \n",
    "    y_pred = model.predict(X_test)\n",
    "    \n",
    "    print_accuracy(y_test, y_pred, isRegressor=isRegressor)\n",
    "\n",
    "    return y_pred"
   ]
  },
  {
   "cell_type": "code",
   "execution_count": 100,
   "metadata": {},
   "outputs": [],
   "source": [
    "# helper function to use LabelEncoder on string objects in a dataframe\n",
    "def encode_strings(df):\n",
    "  # Apply LabelEncoder to each text column in the DataFrame\n",
    "  for column in df.select_dtypes(include=['object']).columns:\n",
    "    le = LabelEncoder()\n",
    "    df[column] = le.fit_transform(df[column])"
   ]
  },
  {
   "cell_type": "markdown",
   "metadata": {},
   "source": [
    "## \"Shotgun Approach\": Linear Regression"
   ]
  },
  {
   "cell_type": "code",
   "execution_count": 101,
   "metadata": {},
   "outputs": [],
   "source": [
    "TARGET = [\"total_gross\"]\n",
    "\n",
    "X, y = model_data.drop(columns=TARGET, axis=1), model_data[TARGET]"
   ]
  },
  {
   "cell_type": "code",
   "execution_count": 102,
   "metadata": {},
   "outputs": [],
   "source": [
    "encode_strings(X)"
   ]
  },
  {
   "cell_type": "code",
   "execution_count": 103,
   "metadata": {},
   "outputs": [],
   "source": [
    "# Train test split data\n",
    "X_train, X_test, y_train, y_test = train_test_split(X, y,\n",
    "                                        train_size=0.7,\n",
    "                                        test_size=0.3,\n",
    "                                        random_state=42)"
   ]
  },
  {
   "cell_type": "code",
   "execution_count": 104,
   "metadata": {},
   "outputs": [
    {
     "name": "stdout",
     "output_type": "stream",
     "text": [
      "> ACCURACY: \t5.63%\n"
     ]
    }
   ],
   "source": [
    "# instantiate Linear Regression model\n",
    "lin_reg_model = LinearRegression()\n",
    "\n",
    "y_pred = fit_predict(lin_reg_model, X_train, y_train, X_test, y_test, isRegressor=True)"
   ]
  },
  {
   "cell_type": "code",
   "execution_count": 105,
   "metadata": {},
   "outputs": [
    {
     "data": {
      "text/plain": [
       "count    7.682000e+03\n",
       "mean     9.497949e+07\n",
       "std      1.988016e+08\n",
       "min      1.000000e+02\n",
       "25%      4.264000e+05\n",
       "50%      1.010000e+07\n",
       "75%      8.710000e+07\n",
       "max      1.405400e+09\n",
       "Name: total_gross, dtype: float64"
      ]
     },
     "execution_count": 105,
     "metadata": {},
     "output_type": "execute_result"
    }
   ],
   "source": [
    "model_data[\"total_gross\"].describe()"
   ]
  },
  {
   "cell_type": "markdown",
   "metadata": {},
   "source": [
    "The linear regression had an accuracy of 5.63%, which is really bad. Although we can try to improve that, let's try making our target value (total_gross) a categorical value and using classification models instead to see if accuracy improves."
   ]
  },
  {
   "cell_type": "markdown",
   "metadata": {},
   "source": [
    "## \"Shotgun Approach\": Classification Models"
   ]
  },
  {
   "cell_type": "markdown",
   "metadata": {},
   "source": [
    "### Data Preprocessing"
   ]
  },
  {
   "cell_type": "code",
   "execution_count": 106,
   "metadata": {},
   "outputs": [
    {
     "data": {
      "text/html": [
       "<div>\n",
       "<style scoped>\n",
       "    .dataframe tbody tr th:only-of-type {\n",
       "        vertical-align: middle;\n",
       "    }\n",
       "\n",
       "    .dataframe tbody tr th {\n",
       "        vertical-align: top;\n",
       "    }\n",
       "\n",
       "    .dataframe thead th {\n",
       "        text-align: right;\n",
       "    }\n",
       "</style>\n",
       "<table border=\"1\" class=\"dataframe\">\n",
       "  <thead>\n",
       "    <tr style=\"text-align: right;\">\n",
       "      <th></th>\n",
       "      <th>individual_genre</th>\n",
       "      <th>runtime_minutes</th>\n",
       "      <th>studio</th>\n",
       "      <th>year</th>\n",
       "      <th>averagerating</th>\n",
       "      <th>director_id</th>\n",
       "      <th>total_gross</th>\n",
       "      <th>gross_class</th>\n",
       "    </tr>\n",
       "  </thead>\n",
       "  <tbody>\n",
       "    <tr>\n",
       "      <th>0</th>\n",
       "      <td>Action</td>\n",
       "      <td>103.0</td>\n",
       "      <td>Relbig.</td>\n",
       "      <td>2016</td>\n",
       "      <td>7.1</td>\n",
       "      <td>nm2349060</td>\n",
       "      <td>1100000.0</td>\n",
       "      <td>medium</td>\n",
       "    </tr>\n",
       "    <tr>\n",
       "      <th>1</th>\n",
       "      <td>Crime</td>\n",
       "      <td>103.0</td>\n",
       "      <td>Relbig.</td>\n",
       "      <td>2016</td>\n",
       "      <td>7.1</td>\n",
       "      <td>nm2349060</td>\n",
       "      <td>1100000.0</td>\n",
       "      <td>medium</td>\n",
       "    </tr>\n",
       "    <tr>\n",
       "      <th>2</th>\n",
       "      <td>Drama</td>\n",
       "      <td>103.0</td>\n",
       "      <td>Relbig.</td>\n",
       "      <td>2016</td>\n",
       "      <td>7.1</td>\n",
       "      <td>nm2349060</td>\n",
       "      <td>1100000.0</td>\n",
       "      <td>medium</td>\n",
       "    </tr>\n",
       "    <tr>\n",
       "      <th>3</th>\n",
       "      <td>Adventure</td>\n",
       "      <td>124.0</td>\n",
       "      <td>IFC</td>\n",
       "      <td>2012</td>\n",
       "      <td>6.1</td>\n",
       "      <td>nm0758574</td>\n",
       "      <td>8744000.0</td>\n",
       "      <td>medium</td>\n",
       "    </tr>\n",
       "    <tr>\n",
       "      <th>4</th>\n",
       "      <td>Drama</td>\n",
       "      <td>124.0</td>\n",
       "      <td>IFC</td>\n",
       "      <td>2012</td>\n",
       "      <td>6.1</td>\n",
       "      <td>nm0758574</td>\n",
       "      <td>8744000.0</td>\n",
       "      <td>medium</td>\n",
       "    </tr>\n",
       "  </tbody>\n",
       "</table>\n",
       "</div>"
      ],
      "text/plain": [
       "  individual_genre  runtime_minutes   studio  year  averagerating director_id  \\\n",
       "0           Action            103.0  Relbig.  2016            7.1   nm2349060   \n",
       "1            Crime            103.0  Relbig.  2016            7.1   nm2349060   \n",
       "2            Drama            103.0  Relbig.  2016            7.1   nm2349060   \n",
       "3        Adventure            124.0      IFC  2012            6.1   nm0758574   \n",
       "4            Drama            124.0      IFC  2012            6.1   nm0758574   \n",
       "\n",
       "   total_gross gross_class  \n",
       "0    1100000.0      medium  \n",
       "1    1100000.0      medium  \n",
       "2    1100000.0      medium  \n",
       "3    8744000.0      medium  \n",
       "4    8744000.0      medium  "
      ]
     },
     "execution_count": 106,
     "metadata": {},
     "output_type": "execute_result"
    }
   ],
   "source": [
    "# We want to use total_gross as a categorical value\n",
    "# let's create buckets for different areas following percentiles\n",
    "\n",
    "buckets = [0, 435000, 87300000, 1405400000]\n",
    "labels = [\"low\", \"medium\", \"high\"]\n",
    "\n",
    "model_data[\"gross_class\"] = pd.cut(model_data[\"total_gross\"], bins=buckets, labels=labels)\n",
    "model_data.head()"
   ]
  },
  {
   "cell_type": "code",
   "execution_count": 107,
   "metadata": {},
   "outputs": [
    {
     "data": {
      "text/html": [
       "<div>\n",
       "<style scoped>\n",
       "    .dataframe tbody tr th:only-of-type {\n",
       "        vertical-align: middle;\n",
       "    }\n",
       "\n",
       "    .dataframe tbody tr th {\n",
       "        vertical-align: top;\n",
       "    }\n",
       "\n",
       "    .dataframe thead th {\n",
       "        text-align: right;\n",
       "    }\n",
       "</style>\n",
       "<table border=\"1\" class=\"dataframe\">\n",
       "  <thead>\n",
       "    <tr style=\"text-align: right;\">\n",
       "      <th></th>\n",
       "      <th>individual_genre</th>\n",
       "      <th>runtime_minutes</th>\n",
       "      <th>studio</th>\n",
       "      <th>year</th>\n",
       "      <th>averagerating</th>\n",
       "      <th>director_id</th>\n",
       "      <th>gross_class</th>\n",
       "    </tr>\n",
       "  </thead>\n",
       "  <tbody>\n",
       "    <tr>\n",
       "      <th>0</th>\n",
       "      <td>Action</td>\n",
       "      <td>103.0</td>\n",
       "      <td>Relbig.</td>\n",
       "      <td>2016</td>\n",
       "      <td>7.1</td>\n",
       "      <td>nm2349060</td>\n",
       "      <td>medium</td>\n",
       "    </tr>\n",
       "    <tr>\n",
       "      <th>1</th>\n",
       "      <td>Crime</td>\n",
       "      <td>103.0</td>\n",
       "      <td>Relbig.</td>\n",
       "      <td>2016</td>\n",
       "      <td>7.1</td>\n",
       "      <td>nm2349060</td>\n",
       "      <td>medium</td>\n",
       "    </tr>\n",
       "    <tr>\n",
       "      <th>2</th>\n",
       "      <td>Drama</td>\n",
       "      <td>103.0</td>\n",
       "      <td>Relbig.</td>\n",
       "      <td>2016</td>\n",
       "      <td>7.1</td>\n",
       "      <td>nm2349060</td>\n",
       "      <td>medium</td>\n",
       "    </tr>\n",
       "    <tr>\n",
       "      <th>3</th>\n",
       "      <td>Adventure</td>\n",
       "      <td>124.0</td>\n",
       "      <td>IFC</td>\n",
       "      <td>2012</td>\n",
       "      <td>6.1</td>\n",
       "      <td>nm0758574</td>\n",
       "      <td>medium</td>\n",
       "    </tr>\n",
       "    <tr>\n",
       "      <th>4</th>\n",
       "      <td>Drama</td>\n",
       "      <td>124.0</td>\n",
       "      <td>IFC</td>\n",
       "      <td>2012</td>\n",
       "      <td>6.1</td>\n",
       "      <td>nm0758574</td>\n",
       "      <td>medium</td>\n",
       "    </tr>\n",
       "  </tbody>\n",
       "</table>\n",
       "</div>"
      ],
      "text/plain": [
       "  individual_genre  runtime_minutes   studio  year  averagerating director_id  \\\n",
       "0           Action            103.0  Relbig.  2016            7.1   nm2349060   \n",
       "1            Crime            103.0  Relbig.  2016            7.1   nm2349060   \n",
       "2            Drama            103.0  Relbig.  2016            7.1   nm2349060   \n",
       "3        Adventure            124.0      IFC  2012            6.1   nm0758574   \n",
       "4            Drama            124.0      IFC  2012            6.1   nm0758574   \n",
       "\n",
       "  gross_class  \n",
       "0      medium  \n",
       "1      medium  \n",
       "2      medium  \n",
       "3      medium  \n",
       "4      medium  "
      ]
     },
     "execution_count": 107,
     "metadata": {},
     "output_type": "execute_result"
    }
   ],
   "source": [
    "# drop the total_gross column and put in a new DF for categorical testing\n",
    "cat_model_data = model_data.drop(columns=[\"total_gross\"])\n",
    "cat_model_data.head()"
   ]
  },
  {
   "cell_type": "markdown",
   "metadata": {},
   "source": [
    "### Shotgun Approach using 5 different classification models"
   ]
  },
  {
   "cell_type": "code",
   "execution_count": 108,
   "metadata": {},
   "outputs": [],
   "source": [
    "# new target\n",
    "TARGET = [\"gross_class\"]\n",
    "X_cat, y_cat = cat_model_data.drop(columns=TARGET), cat_model_data[TARGET]"
   ]
  },
  {
   "cell_type": "code",
   "execution_count": 109,
   "metadata": {},
   "outputs": [],
   "source": [
    "# encode strings in X_cat\n",
    "encode_strings(X_cat)"
   ]
  },
  {
   "cell_type": "code",
   "execution_count": 110,
   "metadata": {},
   "outputs": [],
   "source": [
    "# Split X and Y into train and test\n",
    "X_cat_train, X_cat_test, y_cat_train, y_cat_test = train_test_split(X_cat, y_cat,\n",
    "                                                    train_size=0.8,\n",
    "                                                    test_size=0.2,\n",
    "                                                    random_state=42)"
   ]
  },
  {
   "cell_type": "code",
   "execution_count": 111,
   "metadata": {},
   "outputs": [],
   "source": [
    "# creating models that we want to test to see which is most optimized\n",
    "# we will use this to test different X_train variations\n",
    "cat_models = {\n",
    "    \"KNN\": {\n",
    "        \"Estimator\": KNeighborsClassifier(),\n",
    "        },\n",
    "    \"SVM\": {\n",
    "        \"Estimator\": SVC(),\n",
    "        },\n",
    "    \"CART\": {\n",
    "        \"Estimator\": DecisionTreeClassifier(),\n",
    "        },\n",
    "    \"NB\": {\n",
    "        \"Estimator\": GaussianNB(),\n",
    "        },\n",
    "    \"LOGREG\": {\n",
    "        \"Estimator\": LogisticRegression(),\n",
    "        }\n",
    "}"
   ]
  },
  {
   "cell_type": "code",
   "execution_count": 112,
   "metadata": {},
   "outputs": [
    {
     "name": "stdout",
     "output_type": "stream",
     "text": [
      "\n",
      "[MODEL TYPE: KNN]\n",
      "\n",
      ">>>> Top Performance: \t\t0.6564\n",
      ">>>> Average Performance: \t0.6207\n",
      ">>>> Spread of Performance: \t0.0173\n",
      "\n",
      "[MODEL TYPE: SVM]\n",
      "\n",
      ">>>> Top Performance: \t\t0.4984\n",
      ">>>> Average Performance: \t0.4980\n",
      ">>>> Spread of Performance: \t0.0004\n",
      "\n",
      "[MODEL TYPE: CART]\n",
      "\n",
      ">>>> Top Performance: \t\t0.8780\n",
      ">>>> Average Performance: \t0.8329\n",
      ">>>> Spread of Performance: \t0.0210\n",
      "\n",
      "[MODEL TYPE: NB]\n",
      "\n",
      ">>>> Top Performance: \t\t0.5456\n",
      ">>>> Average Performance: \t0.5141\n",
      ">>>> Spread of Performance: \t0.0202\n",
      "\n",
      "[MODEL TYPE: LOGREG]\n",
      "\n",
      ">>>> Top Performance: \t\t0.5391\n",
      ">>>> Average Performance: \t0.5097\n",
      ">>>> Spread of Performance: \t0.0135\n"
     ]
    }
   ],
   "source": [
    "# test performance of different models using X_train\n",
    "test_models_performance(cat_models, X_cat_train, y_cat_train, isRegressor=False)"
   ]
  },
  {
   "cell_type": "markdown",
   "metadata": {},
   "source": [
    "A decision tree classifier seems to be the best performing model with 83.12% average accuracy."
   ]
  },
  {
   "cell_type": "code",
   "execution_count": 113,
   "metadata": {},
   "outputs": [
    {
     "name": "stdout",
     "output_type": "stream",
     "text": [
      "> ACCURACY: \t81.85%\n"
     ]
    }
   ],
   "source": [
    "# let's create an instance of that and tune it to have even better accuracy\n",
    "dt_model = DecisionTreeClassifier()\n",
    "\n",
    "y_pred = fit_predict(dt_model, X_cat_train, y_cat_train, X_cat_test, y_cat_test, isRegressor=False)"
   ]
  },
  {
   "cell_type": "markdown",
   "metadata": {},
   "source": [
    "# Accuracy to beat: 81.78%"
   ]
  },
  {
   "cell_type": "markdown",
   "metadata": {},
   "source": [
    "### Tuning: Standard Scaler"
   ]
  },
  {
   "cell_type": "code",
   "execution_count": 114,
   "metadata": {},
   "outputs": [],
   "source": [
    "# use standard scaler\n",
    "# check if that will gain better results\n",
    "scaler = StandardScaler()\n",
    "X_cat_train_scaled = scaler.fit_transform(X_cat_train)\n",
    "X_cat_test_scaled = scaler.transform(X_cat_test)"
   ]
  },
  {
   "cell_type": "code",
   "execution_count": 115,
   "metadata": {},
   "outputs": [
    {
     "name": "stdout",
     "output_type": "stream",
     "text": [
      "> ACCURACY: \t81.65%\n"
     ]
    }
   ],
   "source": [
    "y_pred = fit_predict(dt_model, X_cat_train_scaled, y_cat_train, X_cat_test_scaled, y_cat_test, isRegressor=False)"
   ]
  },
  {
   "cell_type": "markdown",
   "metadata": {},
   "source": [
    "The standard scaler didn't increase the accuracy by much.\n",
    "\n",
    "# Accuracy to beat: 81.59%\n",
    "\n",
    "### Tuning: MinMax Scaler"
   ]
  },
  {
   "cell_type": "code",
   "execution_count": 116,
   "metadata": {},
   "outputs": [],
   "source": [
    "# Let's try using a minmax scaler\n",
    "scaler = MinMaxScaler()\n",
    "X_cat_train_mm_scaled = scaler.fit_transform(X_cat_train)\n",
    "X_cat_test_mm_scaled = scaler.transform(X_cat_test)"
   ]
  },
  {
   "cell_type": "code",
   "execution_count": 117,
   "metadata": {},
   "outputs": [
    {
     "name": "stdout",
     "output_type": "stream",
     "text": [
      "> ACCURACY: \t81.46%\n"
     ]
    }
   ],
   "source": [
    "y_pred = fit_predict(dt_model, X_cat_train_mm_scaled, y_cat_train, X_cat_test_mm_scaled, y_cat_test, isRegressor=False)"
   ]
  },
  {
   "cell_type": "markdown",
   "metadata": {},
   "source": [
    "The minmax scaler also didn't increase the accuracy by much.\n",
    "\n",
    "# Accuracy to beat: 81.65%\n",
    "\n",
    "### Tuning: GridSearchCV"
   ]
  },
  {
   "cell_type": "code",
   "execution_count": 118,
   "metadata": {},
   "outputs": [
    {
     "data": {
      "text/plain": [
       "[('studio', 0.3232623026076705),\n",
       " ('director_id', 0.1950744242217082),\n",
       " ('runtime_minutes', 0.16867287187327468),\n",
       " ('averagerating', 0.14880657745983003),\n",
       " ('year', 0.09937146957516377),\n",
       " ('individual_genre', 0.06481235426235275)]"
      ]
     },
     "execution_count": 118,
     "metadata": {},
     "output_type": "execute_result"
    }
   ],
   "source": [
    "# let's investigate the expressed signal from each of our features\n",
    "importances, features = dt_model.feature_importances_, list(X_cat)\n",
    "\n",
    "feature_importances = [(features[iteration], importances[iteration]) for iteration in range(len(features))]\n",
    "feature_importances.sort(reverse=True, key=lambda X_cat: X_cat[1])\n",
    "\n",
    "feature_importances"
   ]
  },
  {
   "cell_type": "code",
   "execution_count": 119,
   "metadata": {},
   "outputs": [],
   "source": [
    "# choose hyperparamters to test in the GridSearchCV\n",
    "hyperparameters = {\n",
    "\t\t 'criterion': ['gini', 'entropy'],\n",
    "\t\t 'max_depth': [10, 20, 30],\n",
    "\t\t 'max_leaf_nodes': [1000, 5000, 10000],\n",
    "\t\t 'min_samples_leaf': [20, 50, 100],\n",
    "\t\t 'min_samples_split': [10, 50, 100]\n",
    "}"
   ]
  },
  {
   "cell_type": "code",
   "execution_count": 120,
   "metadata": {},
   "outputs": [],
   "source": [
    "tuned_model = DecisionTreeClassifier(random_state=42)\n",
    "model_tuner = GridSearchCV(tuned_model, hyperparameters, cv=10)"
   ]
  },
  {
   "cell_type": "code",
   "execution_count": 121,
   "metadata": {},
   "outputs": [
    {
     "data": {
      "text/html": [
       "<style>#sk-container-id-9 {color: black;background-color: white;}#sk-container-id-9 pre{padding: 0;}#sk-container-id-9 div.sk-toggleable {background-color: white;}#sk-container-id-9 label.sk-toggleable__label {cursor: pointer;display: block;width: 100%;margin-bottom: 0;padding: 0.3em;box-sizing: border-box;text-align: center;}#sk-container-id-9 label.sk-toggleable__label-arrow:before {content: \"▸\";float: left;margin-right: 0.25em;color: #696969;}#sk-container-id-9 label.sk-toggleable__label-arrow:hover:before {color: black;}#sk-container-id-9 div.sk-estimator:hover label.sk-toggleable__label-arrow:before {color: black;}#sk-container-id-9 div.sk-toggleable__content {max-height: 0;max-width: 0;overflow: hidden;text-align: left;background-color: #f0f8ff;}#sk-container-id-9 div.sk-toggleable__content pre {margin: 0.2em;color: black;border-radius: 0.25em;background-color: #f0f8ff;}#sk-container-id-9 input.sk-toggleable__control:checked~div.sk-toggleable__content {max-height: 200px;max-width: 100%;overflow: auto;}#sk-container-id-9 input.sk-toggleable__control:checked~label.sk-toggleable__label-arrow:before {content: \"▾\";}#sk-container-id-9 div.sk-estimator input.sk-toggleable__control:checked~label.sk-toggleable__label {background-color: #d4ebff;}#sk-container-id-9 div.sk-label input.sk-toggleable__control:checked~label.sk-toggleable__label {background-color: #d4ebff;}#sk-container-id-9 input.sk-hidden--visually {border: 0;clip: rect(1px 1px 1px 1px);clip: rect(1px, 1px, 1px, 1px);height: 1px;margin: -1px;overflow: hidden;padding: 0;position: absolute;width: 1px;}#sk-container-id-9 div.sk-estimator {font-family: monospace;background-color: #f0f8ff;border: 1px dotted black;border-radius: 0.25em;box-sizing: border-box;margin-bottom: 0.5em;}#sk-container-id-9 div.sk-estimator:hover {background-color: #d4ebff;}#sk-container-id-9 div.sk-parallel-item::after {content: \"\";width: 100%;border-bottom: 1px solid gray;flex-grow: 1;}#sk-container-id-9 div.sk-label:hover label.sk-toggleable__label {background-color: #d4ebff;}#sk-container-id-9 div.sk-serial::before {content: \"\";position: absolute;border-left: 1px solid gray;box-sizing: border-box;top: 0;bottom: 0;left: 50%;z-index: 0;}#sk-container-id-9 div.sk-serial {display: flex;flex-direction: column;align-items: center;background-color: white;padding-right: 0.2em;padding-left: 0.2em;position: relative;}#sk-container-id-9 div.sk-item {position: relative;z-index: 1;}#sk-container-id-9 div.sk-parallel {display: flex;align-items: stretch;justify-content: center;background-color: white;position: relative;}#sk-container-id-9 div.sk-item::before, #sk-container-id-9 div.sk-parallel-item::before {content: \"\";position: absolute;border-left: 1px solid gray;box-sizing: border-box;top: 0;bottom: 0;left: 50%;z-index: -1;}#sk-container-id-9 div.sk-parallel-item {display: flex;flex-direction: column;z-index: 1;position: relative;background-color: white;}#sk-container-id-9 div.sk-parallel-item:first-child::after {align-self: flex-end;width: 50%;}#sk-container-id-9 div.sk-parallel-item:last-child::after {align-self: flex-start;width: 50%;}#sk-container-id-9 div.sk-parallel-item:only-child::after {width: 0;}#sk-container-id-9 div.sk-dashed-wrapped {border: 1px dashed gray;margin: 0 0.4em 0.5em 0.4em;box-sizing: border-box;padding-bottom: 0.4em;background-color: white;}#sk-container-id-9 div.sk-label label {font-family: monospace;font-weight: bold;display: inline-block;line-height: 1.2em;}#sk-container-id-9 div.sk-label-container {text-align: center;}#sk-container-id-9 div.sk-container {/* jupyter's `normalize.less` sets `[hidden] { display: none; }` but bootstrap.min.css set `[hidden] { display: none !important; }` so we also need the `!important` here to be able to override the default hidden behavior on the sphinx rendered scikit-learn.org. See: https://github.com/scikit-learn/scikit-learn/issues/21755 */display: inline-block !important;position: relative;}#sk-container-id-9 div.sk-text-repr-fallback {display: none;}</style><div id=\"sk-container-id-9\" class=\"sk-top-container\"><div class=\"sk-text-repr-fallback\"><pre>GridSearchCV(cv=10, estimator=DecisionTreeClassifier(random_state=42),\n",
       "             param_grid={&#x27;criterion&#x27;: [&#x27;gini&#x27;, &#x27;entropy&#x27;],\n",
       "                         &#x27;max_depth&#x27;: [10, 20, 30],\n",
       "                         &#x27;max_leaf_nodes&#x27;: [1000, 5000, 10000],\n",
       "                         &#x27;min_samples_leaf&#x27;: [20, 50, 100],\n",
       "                         &#x27;min_samples_split&#x27;: [10, 50, 100]})</pre><b>In a Jupyter environment, please rerun this cell to show the HTML representation or trust the notebook. <br />On GitHub, the HTML representation is unable to render, please try loading this page with nbviewer.org.</b></div><div class=\"sk-container\" hidden><div class=\"sk-item sk-dashed-wrapped\"><div class=\"sk-label-container\"><div class=\"sk-label sk-toggleable\"><input class=\"sk-toggleable__control sk-hidden--visually\" id=\"sk-estimator-id-11\" type=\"checkbox\" ><label for=\"sk-estimator-id-11\" class=\"sk-toggleable__label sk-toggleable__label-arrow\">GridSearchCV</label><div class=\"sk-toggleable__content\"><pre>GridSearchCV(cv=10, estimator=DecisionTreeClassifier(random_state=42),\n",
       "             param_grid={&#x27;criterion&#x27;: [&#x27;gini&#x27;, &#x27;entropy&#x27;],\n",
       "                         &#x27;max_depth&#x27;: [10, 20, 30],\n",
       "                         &#x27;max_leaf_nodes&#x27;: [1000, 5000, 10000],\n",
       "                         &#x27;min_samples_leaf&#x27;: [20, 50, 100],\n",
       "                         &#x27;min_samples_split&#x27;: [10, 50, 100]})</pre></div></div></div><div class=\"sk-parallel\"><div class=\"sk-parallel-item\"><div class=\"sk-item\"><div class=\"sk-label-container\"><div class=\"sk-label sk-toggleable\"><input class=\"sk-toggleable__control sk-hidden--visually\" id=\"sk-estimator-id-12\" type=\"checkbox\" ><label for=\"sk-estimator-id-12\" class=\"sk-toggleable__label sk-toggleable__label-arrow\">estimator: DecisionTreeClassifier</label><div class=\"sk-toggleable__content\"><pre>DecisionTreeClassifier(random_state=42)</pre></div></div></div><div class=\"sk-serial\"><div class=\"sk-item\"><div class=\"sk-estimator sk-toggleable\"><input class=\"sk-toggleable__control sk-hidden--visually\" id=\"sk-estimator-id-13\" type=\"checkbox\" ><label for=\"sk-estimator-id-13\" class=\"sk-toggleable__label sk-toggleable__label-arrow\">DecisionTreeClassifier</label><div class=\"sk-toggleable__content\"><pre>DecisionTreeClassifier(random_state=42)</pre></div></div></div></div></div></div></div></div></div></div>"
      ],
      "text/plain": [
       "GridSearchCV(cv=10, estimator=DecisionTreeClassifier(random_state=42),\n",
       "             param_grid={'criterion': ['gini', 'entropy'],\n",
       "                         'max_depth': [10, 20, 30],\n",
       "                         'max_leaf_nodes': [1000, 5000, 10000],\n",
       "                         'min_samples_leaf': [20, 50, 100],\n",
       "                         'min_samples_split': [10, 50, 100]})"
      ]
     },
     "execution_count": 121,
     "metadata": {},
     "output_type": "execute_result"
    }
   ],
   "source": [
    "model_tuner.fit(X_cat_train, y_cat_train)"
   ]
  },
  {
   "cell_type": "code",
   "execution_count": 122,
   "metadata": {},
   "outputs": [
    {
     "data": {
      "text/html": [
       "<style>#sk-container-id-10 {color: black;background-color: white;}#sk-container-id-10 pre{padding: 0;}#sk-container-id-10 div.sk-toggleable {background-color: white;}#sk-container-id-10 label.sk-toggleable__label {cursor: pointer;display: block;width: 100%;margin-bottom: 0;padding: 0.3em;box-sizing: border-box;text-align: center;}#sk-container-id-10 label.sk-toggleable__label-arrow:before {content: \"▸\";float: left;margin-right: 0.25em;color: #696969;}#sk-container-id-10 label.sk-toggleable__label-arrow:hover:before {color: black;}#sk-container-id-10 div.sk-estimator:hover label.sk-toggleable__label-arrow:before {color: black;}#sk-container-id-10 div.sk-toggleable__content {max-height: 0;max-width: 0;overflow: hidden;text-align: left;background-color: #f0f8ff;}#sk-container-id-10 div.sk-toggleable__content pre {margin: 0.2em;color: black;border-radius: 0.25em;background-color: #f0f8ff;}#sk-container-id-10 input.sk-toggleable__control:checked~div.sk-toggleable__content {max-height: 200px;max-width: 100%;overflow: auto;}#sk-container-id-10 input.sk-toggleable__control:checked~label.sk-toggleable__label-arrow:before {content: \"▾\";}#sk-container-id-10 div.sk-estimator input.sk-toggleable__control:checked~label.sk-toggleable__label {background-color: #d4ebff;}#sk-container-id-10 div.sk-label input.sk-toggleable__control:checked~label.sk-toggleable__label {background-color: #d4ebff;}#sk-container-id-10 input.sk-hidden--visually {border: 0;clip: rect(1px 1px 1px 1px);clip: rect(1px, 1px, 1px, 1px);height: 1px;margin: -1px;overflow: hidden;padding: 0;position: absolute;width: 1px;}#sk-container-id-10 div.sk-estimator {font-family: monospace;background-color: #f0f8ff;border: 1px dotted black;border-radius: 0.25em;box-sizing: border-box;margin-bottom: 0.5em;}#sk-container-id-10 div.sk-estimator:hover {background-color: #d4ebff;}#sk-container-id-10 div.sk-parallel-item::after {content: \"\";width: 100%;border-bottom: 1px solid gray;flex-grow: 1;}#sk-container-id-10 div.sk-label:hover label.sk-toggleable__label {background-color: #d4ebff;}#sk-container-id-10 div.sk-serial::before {content: \"\";position: absolute;border-left: 1px solid gray;box-sizing: border-box;top: 0;bottom: 0;left: 50%;z-index: 0;}#sk-container-id-10 div.sk-serial {display: flex;flex-direction: column;align-items: center;background-color: white;padding-right: 0.2em;padding-left: 0.2em;position: relative;}#sk-container-id-10 div.sk-item {position: relative;z-index: 1;}#sk-container-id-10 div.sk-parallel {display: flex;align-items: stretch;justify-content: center;background-color: white;position: relative;}#sk-container-id-10 div.sk-item::before, #sk-container-id-10 div.sk-parallel-item::before {content: \"\";position: absolute;border-left: 1px solid gray;box-sizing: border-box;top: 0;bottom: 0;left: 50%;z-index: -1;}#sk-container-id-10 div.sk-parallel-item {display: flex;flex-direction: column;z-index: 1;position: relative;background-color: white;}#sk-container-id-10 div.sk-parallel-item:first-child::after {align-self: flex-end;width: 50%;}#sk-container-id-10 div.sk-parallel-item:last-child::after {align-self: flex-start;width: 50%;}#sk-container-id-10 div.sk-parallel-item:only-child::after {width: 0;}#sk-container-id-10 div.sk-dashed-wrapped {border: 1px dashed gray;margin: 0 0.4em 0.5em 0.4em;box-sizing: border-box;padding-bottom: 0.4em;background-color: white;}#sk-container-id-10 div.sk-label label {font-family: monospace;font-weight: bold;display: inline-block;line-height: 1.2em;}#sk-container-id-10 div.sk-label-container {text-align: center;}#sk-container-id-10 div.sk-container {/* jupyter's `normalize.less` sets `[hidden] { display: none; }` but bootstrap.min.css set `[hidden] { display: none !important; }` so we also need the `!important` here to be able to override the default hidden behavior on the sphinx rendered scikit-learn.org. See: https://github.com/scikit-learn/scikit-learn/issues/21755 */display: inline-block !important;position: relative;}#sk-container-id-10 div.sk-text-repr-fallback {display: none;}</style><div id=\"sk-container-id-10\" class=\"sk-top-container\"><div class=\"sk-text-repr-fallback\"><pre>DecisionTreeClassifier(criterion=&#x27;entropy&#x27;, max_depth=20, max_leaf_nodes=1000,\n",
       "                       min_samples_leaf=20, min_samples_split=10,\n",
       "                       random_state=42)</pre><b>In a Jupyter environment, please rerun this cell to show the HTML representation or trust the notebook. <br />On GitHub, the HTML representation is unable to render, please try loading this page with nbviewer.org.</b></div><div class=\"sk-container\" hidden><div class=\"sk-item\"><div class=\"sk-estimator sk-toggleable\"><input class=\"sk-toggleable__control sk-hidden--visually\" id=\"sk-estimator-id-14\" type=\"checkbox\" checked><label for=\"sk-estimator-id-14\" class=\"sk-toggleable__label sk-toggleable__label-arrow\">DecisionTreeClassifier</label><div class=\"sk-toggleable__content\"><pre>DecisionTreeClassifier(criterion=&#x27;entropy&#x27;, max_depth=20, max_leaf_nodes=1000,\n",
       "                       min_samples_leaf=20, min_samples_split=10,\n",
       "                       random_state=42)</pre></div></div></div></div></div>"
      ],
      "text/plain": [
       "DecisionTreeClassifier(criterion='entropy', max_depth=20, max_leaf_nodes=1000,\n",
       "                       min_samples_leaf=20, min_samples_split=10,\n",
       "                       random_state=42)"
      ]
     },
     "execution_count": 122,
     "metadata": {},
     "output_type": "execute_result"
    }
   ],
   "source": [
    "optimally_tuned_classifier = model_tuner.best_estimator_\n",
    "\n",
    "optimally_tuned_classifier"
   ]
  },
  {
   "cell_type": "markdown",
   "metadata": {},
   "source": [
    "From the hyperparameters fed into the GridSearchCV, we see the most optimal hyperparameters for our DecisionTreeClassifier."
   ]
  },
  {
   "cell_type": "code",
   "execution_count": 123,
   "metadata": {},
   "outputs": [
    {
     "name": "stdout",
     "output_type": "stream",
     "text": [
      "> ACCURACY: \t66.69%\n"
     ]
    }
   ],
   "source": [
    "# Get accuracy of the most optimal classifier\n",
    "y_pred = optimally_tuned_classifier.predict(X_cat_test)\n",
    "\n",
    "print_accuracy(y_cat_test, y_pred, isRegressor=False)"
   ]
  },
  {
   "cell_type": "markdown",
   "metadata": {},
   "source": [
    "Hmmm...our accuracy went down by 15%! Let's look at the parameters of our original DecisionTreeClassifier to see what hyperparamters were used to get the 81% accuracy."
   ]
  },
  {
   "cell_type": "code",
   "execution_count": 124,
   "metadata": {},
   "outputs": [
    {
     "data": {
      "text/plain": [
       "{'ccp_alpha': 0.0,\n",
       " 'class_weight': None,\n",
       " 'criterion': 'gini',\n",
       " 'max_depth': None,\n",
       " 'max_features': None,\n",
       " 'max_leaf_nodes': None,\n",
       " 'min_impurity_decrease': 0.0,\n",
       " 'min_samples_leaf': 1,\n",
       " 'min_samples_split': 2,\n",
       " 'min_weight_fraction_leaf': 0.0,\n",
       " 'random_state': None,\n",
       " 'splitter': 'best'}"
      ]
     },
     "execution_count": 124,
     "metadata": {},
     "output_type": "execute_result"
    }
   ],
   "source": [
    "# Getting parameters of our original decision tree\n",
    "dt_model.get_params()"
   ]
  },
  {
   "cell_type": "markdown",
   "metadata": {},
   "source": [
    "Our original decision tree seems to just be a a stump or singular line, which may mean the model is overfit to the original data. This suggests that an ensemble model would do well with this data because an ensemble is just a group of stumps."
   ]
  },
  {
   "cell_type": "code",
   "execution_count": 125,
   "metadata": {},
   "outputs": [],
   "source": [
    "# creating models that we want to test to see which is most optimized\n",
    "# we will use this to test different X_train variations\n",
    "ensemble_models = {\n",
    "    \"RandomForest\": {\n",
    "        \"Estimator\": RandomForestClassifier(),\n",
    "        },\n",
    "    \"ADABoost\": {\n",
    "        \"Estimator\": AdaBoostClassifier(),\n",
    "        }\n",
    "}"
   ]
  },
  {
   "cell_type": "code",
   "execution_count": 126,
   "metadata": {},
   "outputs": [
    {
     "name": "stdout",
     "output_type": "stream",
     "text": [
      "\n",
      "[MODEL TYPE: RandomForest]\n",
      "\n",
      ">>>> Top Performance: \t\t0.8648\n",
      ">>>> Average Performance: \t0.8573\n",
      ">>>> Spread of Performance: \t0.0047\n",
      "\n",
      "[MODEL TYPE: ADABoost]\n",
      "\n",
      ">>>> Top Performance: \t\t0.6450\n",
      ">>>> Average Performance: \t0.6166\n",
      ">>>> Spread of Performance: \t0.0212\n"
     ]
    }
   ],
   "source": [
    "# test performance of different models using X_train\n",
    "test_models_performance(ensemble_models, X_cat_train, y_cat_train, isRegressor=False)"
   ]
  },
  {
   "cell_type": "markdown",
   "metadata": {},
   "source": [
    "Random forest has the best average performance, even better than our Decision Tree! Let's create an instance of the Random Forest."
   ]
  },
  {
   "cell_type": "code",
   "execution_count": 127,
   "metadata": {},
   "outputs": [
    {
     "name": "stdout",
     "output_type": "stream",
     "text": [
      "> ACCURACY: \t85.69%\n"
     ]
    }
   ],
   "source": [
    "rf_model = RandomForestClassifier()\n",
    "\n",
    "y_pred = fit_predict(rf_model, X_cat_train, y_cat_train, X_cat_test, y_cat_test, False)"
   ]
  },
  {
   "cell_type": "code",
   "execution_count": 128,
   "metadata": {},
   "outputs": [
    {
     "data": {
      "text/plain": [
       "{'bootstrap': True,\n",
       " 'ccp_alpha': 0.0,\n",
       " 'class_weight': None,\n",
       " 'criterion': 'gini',\n",
       " 'max_depth': None,\n",
       " 'max_features': 'sqrt',\n",
       " 'max_leaf_nodes': None,\n",
       " 'max_samples': None,\n",
       " 'min_impurity_decrease': 0.0,\n",
       " 'min_samples_leaf': 1,\n",
       " 'min_samples_split': 2,\n",
       " 'min_weight_fraction_leaf': 0.0,\n",
       " 'n_estimators': 100,\n",
       " 'n_jobs': None,\n",
       " 'oob_score': False,\n",
       " 'random_state': None,\n",
       " 'verbose': 0,\n",
       " 'warm_start': False}"
      ]
     },
     "execution_count": 128,
     "metadata": {},
     "output_type": "execute_result"
    }
   ],
   "source": [
    "# Check paramters of this random forest\n",
    "rf_model.get_params()"
   ]
  },
  {
   "cell_type": "markdown",
   "metadata": {},
   "source": [
    "# Accuracy to beat: 85.30%"
   ]
  },
  {
   "cell_type": "markdown",
   "metadata": {},
   "source": [
    "# Summary\n",
    "\n",
    "The Random Forest was the model that performed the best with our movie data. We can see an 85.30% accuracy of predicting whether a movie will have low, medium, or high revenue based on the selected features.\n",
    "\n",
    "Moving forward, we can do more hyperparameter tuning to improve the model even more. We can perform a selective GridSearchCV to understand what hyperparameters would be better. We could also do more feature selection to choose the most significant features and combine or drop features that aren't as significant."
   ]
  },
  {
   "cell_type": "markdown",
   "metadata": {},
   "source": []
  }
 ],
 "metadata": {
  "kernelspec": {
   "display_name": "Cohort-Env",
   "language": "python",
   "name": "python3"
  },
  "language_info": {
   "codemirror_mode": {
    "name": "ipython",
    "version": 3
   },
   "file_extension": ".py",
   "mimetype": "text/x-python",
   "name": "python",
   "nbconvert_exporter": "python",
   "pygments_lexer": "ipython3",
   "version": "3.8.19"
  }
 },
 "nbformat": 4,
 "nbformat_minor": 2
}
